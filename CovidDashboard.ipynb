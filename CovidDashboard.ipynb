{
 "cells": [
  {
   "cell_type": "markdown",
   "metadata": {},
   "source": [
    "# Covid-19 Dashboard"
   ]
  },
  {
   "cell_type": "markdown",
   "metadata": {},
   "source": [
    "The following graph compares the total number of Covid-19 cases since the beginning of the pandemic to the total number of hospital admissions associated with Covid-19. "
   ]
  },
  {
   "cell_type": "code",
   "execution_count": 1,
   "metadata": {},
   "outputs": [],
   "source": [
    "from IPython.display import clear_output \n",
    "from uk_covid19 import Cov19API \n",
    "import ipywidgets as wdg \n",
    "import pandas as pd \n",
    "import numpy as np \n",
    "import matplotlib.pyplot as plt \n",
    "import json \n",
    "\n",
    "# sets the visual output of the graph so that it is larger and easier to read\n",
    "%matplotlib inline \n",
    "plt.rcParams['figure.dpi'] = 100"
   ]
  },
  {
   "cell_type": "code",
   "execution_count": 2,
   "metadata": {},
   "outputs": [],
   "source": [
    "# This block reads the contents of JSON files and assigns them to variable names.\n",
    "\n",
    "# returns the contents of a JSON file\n",
    "def contentsOf(fileName: str):\n",
    "    with open(fileName, \"rt\") as INFILE:\n",
    "        return json.load(INFILE)\n",
    "\n",
    "# returns only the 'data' portion of a JSON file\n",
    "def rawData(fileName: str):\n",
    "    data = contentsOf(fileName)\n",
    "    return data['data']\n",
    "\n",
    "dataset_one = rawData(\"newCasesAndNewTests.json\")\n",
    "dataset_two = rawData(\"ukCasesAndAdmissions.json\")"
   ]
  },
  {
   "cell_type": "code",
   "execution_count": 3,
   "metadata": {},
   "outputs": [],
   "source": [
    "# This block performs the data wrangling necessary to create the graph.\n",
    "\n",
    "# reads the 'date' value from the data and converts it into optimal format\n",
    "def parse_date(datestring: str):\n",
    "    return pd.to_datetime(datestring, format=\"%Y-%m-%d\")\n",
    "\n",
    "# sorts through and reformats the data for use in the graph\n",
    "def wrangle_data(dataset: str, setColumns: list):\n",
    "    # sorts data by date\n",
    "    dates = [dictionary['date'] for dictionary in dataset]\n",
    "    dates.sort()\n",
    "    \n",
    "    # sets start and end dates for the graph\n",
    "    startdate = parse_date(dates[0])\n",
    "    enddate = parse_date(dates[-1])\n",
    "\n",
    "    # sets index to date range and creates dataframe\n",
    "    index = pd.date_range(startdate, enddate, freq='D')\n",
    "    df = pd.DataFrame(index = index, columns = setColumns)\n",
    "\n",
    "    # populates columns in the dataset\n",
    "    for entry in dataset:\n",
    "        date = parse_date(entry['date'])\n",
    "        for column in setColumns:\n",
    "            if pd.isna(df.loc[date, column]):\n",
    "                value = float(entry[column]) if entry[column]!= None else 0.0\n",
    "                df.loc[date, column] = value \n",
    "\n",
    "    # fills in remaining holes\n",
    "    df.fillna(0.0, inplace = True)\n",
    "\n",
    "    return df \n",
    "\n",
    "newCasesAndNewTestsdf = wrangle_data(dataset_one, ['new_cases', 'new_tests'])\n",
    "ukCasesAndAdmissionsdf = wrangle_data(dataset_two, ['cases', 'admissions'])"
   ]
  },
  {
   "cell_type": "code",
   "execution_count": 4,
   "metadata": {},
   "outputs": [
    {
     "data": {
      "application/vnd.jupyter.widget-view+json": {
       "model_id": "0bf9b29d801d4313a8571b561072bedc",
       "version_major": 2,
       "version_minor": 0
      },
      "text/plain": [
       "HBox(children=(SelectMultiple(description='Statistics:', index=(0, 1), options=('new_cases', 'new_tests'), row…"
      ]
     },
     "metadata": {},
     "output_type": "display_data"
    },
    {
     "data": {
      "application/vnd.jupyter.widget-view+json": {
       "model_id": "3939f77065794d3f84f23ba357abbdb8",
       "version_major": 2,
       "version_minor": 0
      },
      "text/plain": [
       "Output()"
      ]
     },
     "metadata": {},
     "output_type": "display_data"
    }
   ],
   "source": [
    "# This block creates the first graph and adds interactive controls.\n",
    "\n",
    "def graph_one(gcols: str, gscale: str):\n",
    "    if gscale == 'linear':\n",
    "        logscale = False \n",
    "    else:\n",
    "        logscale = True \n",
    "\n",
    "    ncols = len(gcols)\n",
    "\n",
    "    if ncols > 0:\n",
    "        newCasesAndNewTestsdf[list(gcols)].plot(logy=logscale)\n",
    "        plt.show() \n",
    "    else:\n",
    "        print('Click to select data for graph')\n",
    "        print('CTRL-Click to select more than one category') \n",
    "\n",
    "# sets values of series (column) selection\n",
    "series_one = wdg.SelectMultiple(\n",
    "    options = ['new_cases', 'new_tests'],\n",
    "    value = ['new_cases', 'new_tests'],\n",
    "    rows = 2,\n",
    "    description = 'Statistics:',\n",
    "    disable = False\n",
    ")\n",
    "\n",
    "# sets values of scale selection\n",
    "scale_one = wdg.RadioButtons(\n",
    "    options = ['linear', 'log'],\n",
    "    description = 'Scale:', \n",
    "    disabled = False\n",
    ") \n",
    "\n",
    "# defines appearance of the graph controls using series and select variables\n",
    "controls_one = wdg.HBox([series_one, scale_one])\n",
    "\n",
    "# creates UI and organizes it within a box\n",
    "graph_one = wdg.interactive_output(graph_one, {'gcols': series_one, 'gscale': scale_one})\n",
    "\n",
    "# outputs graph and interactive controls\n",
    "display(controls_one, graph_one)"
   ]
  },
  {
   "cell_type": "code",
   "execution_count": 5,
   "metadata": {},
   "outputs": [
    {
     "data": {
      "application/vnd.jupyter.widget-view+json": {
       "model_id": "9643c9f2ba8548a2adbef846277d2fb8",
       "version_major": 2,
       "version_minor": 0
      },
      "text/plain": [
       "Button(button_style='info', description='Refresh Data', icon='check', style=ButtonStyle(), tooltip='Get new da…"
      ]
     },
     "metadata": {},
     "output_type": "display_data"
    }
   ],
   "source": [
    "# This block creates a button that allows a user to refresh the data for graph one by polling the API. \n",
    "\n",
    "# accesses API to update the dataset\n",
    "def access_api():\n",
    "    # sets filter\n",
    "    united_kingdom = [\n",
    "        'areaType=overview'\n",
    "    ]\n",
    "\n",
    "    # sets structure\n",
    "    new_cases_and_tests = {\n",
    "        \"date\": \"date\",\n",
    "        \"new_cases\": \"newCasesByPublishDate\",\n",
    "        \"new_tests\": \"newTestsByPublishDate\"\n",
    "    }\n",
    "\n",
    "    # creates 'api' object\n",
    "    api = Cov19API(filters=united_kingdom, structure=new_cases_and_tests)\n",
    "\n",
    "    # polls the API for data\n",
    "    data = api.get_json()\n",
    "\n",
    "    return data['data']\n",
    "\n",
    "# defines function of the button widget\n",
    "def api_button_callback(button):\n",
    "    apidata = access_api()\n",
    "\n",
    "    global newCasesAndNewTestsdf\n",
    "\n",
    "    # sets global dataframe variable to a wrangled version of the new dataset\n",
    "    newCasesAndNewTestsdf = wrangle_data(apidata, ['new_cases', 'new_tests'])\n",
    "\n",
    "    # sets visual appearance of the button\n",
    "    apibutton.icon = \"check\"\n",
    "\n",
    "apibutton = wdg.Button(\n",
    "    description = 'Refresh Data',\n",
    "    disabled = False,\n",
    "    button_style = 'info',\n",
    "    tooltip = 'Get new data from the API', \n",
    "    icon = 'check'\n",
    ")\n",
    "\n",
    "apibutton.on_click(api_button_callback)\n",
    "\n",
    "display(apibutton)"
   ]
  },
  {
   "cell_type": "code",
   "execution_count": 6,
   "metadata": {},
   "outputs": [
    {
     "data": {
      "application/vnd.jupyter.widget-view+json": {
       "model_id": "c59d8cd2288745d2836bf15a32bf42f5",
       "version_major": 2,
       "version_minor": 0
      },
      "text/plain": [
       "HBox(children=(SelectMultiple(description='Statistics:', index=(0, 1), options=('cases', 'admissions'), rows=2…"
      ]
     },
     "metadata": {},
     "output_type": "display_data"
    },
    {
     "data": {
      "application/vnd.jupyter.widget-view+json": {
       "model_id": "537db24f14a442ca8b9c0f7480335a8a",
       "version_major": 2,
       "version_minor": 0
      },
      "text/plain": [
       "Output()"
      ]
     },
     "metadata": {},
     "output_type": "display_data"
    }
   ],
   "source": [
    "# This block creates the second graph and adds interactive controls.\n",
    "\n",
    "def graph_two(gcols: str, gscale: str):\n",
    "    if gscale == 'linear':\n",
    "        logscale = False \n",
    "    else:\n",
    "        logscale = True \n",
    "\n",
    "    ncols = len(gcols)\n",
    "\n",
    "    if ncols > 0:\n",
    "        ukCasesAndAdmissionsdf[list(gcols)].plot(logy=logscale)\n",
    "        plt.show() \n",
    "    else:\n",
    "        print('Click to select data for graph')\n",
    "        print('CTRL-Click to select more than one category') \n",
    "\n",
    "# sets values of series (column) selection\n",
    "series_two = wdg.SelectMultiple(\n",
    "    options = ['cases', 'admissions'],\n",
    "    value = ['cases', 'admissions'],\n",
    "    rows = 2,\n",
    "    description = 'Statistics:',\n",
    "    disable = False\n",
    ")\n",
    "\n",
    "# sets values of scale selection\n",
    "scale_two = wdg.RadioButtons(\n",
    "    options = ['linear', 'log'],\n",
    "    description = 'Scale:', \n",
    "    disabled = False\n",
    ") \n",
    "\n",
    "# defines appearance of the graph controls using series and select variables\n",
    "controls_two = wdg.HBox([series_two, scale_two])\n",
    "\n",
    "# creates UI and organizes it within a box\n",
    "graph_two = wdg.interactive_output(graph_two, {'gcols': series_two, 'gscale': scale_two})\n",
    "\n",
    "# outputs graph and interactive controls\n",
    "display(controls_two, graph_two)"
   ]
  },
  {
   "cell_type": "code",
   "execution_count": 7,
   "metadata": {},
   "outputs": [
    {
     "data": {
      "application/vnd.jupyter.widget-view+json": {
       "model_id": "3493ad7727584d92bae83ac7fda6840b",
       "version_major": 2,
       "version_minor": 0
      },
      "text/plain": [
       "Button(button_style='info', description='Refresh Data', icon='check', style=ButtonStyle(), tooltip='Get new da…"
      ]
     },
     "metadata": {},
     "output_type": "display_data"
    }
   ],
   "source": [
    "# This block creates a button that allows a user to refresh the data for graph two by polling the API. \n",
    "\n",
    "# accesses API to update the dataset\n",
    "def access_api_two():\n",
    "    # sets filter\n",
    "    united_kingdom = [\n",
    "        'areaType=overview'\n",
    "    ]\n",
    "\n",
    "    # sets structure\n",
    "    cases_and_admissions = {\n",
    "        \"date\": \"date\",\n",
    "        \"cases\": \"cumCasesBySpecimenDate\",\n",
    "        \"admissions\": \"cumAdmissions\"\n",
    "    }\n",
    "\n",
    "    # creates 'api' object\n",
    "    api = Cov19API(filters=united_kingdom, structure=cases_and_admissions)\n",
    "\n",
    "    # polls the API for data\n",
    "    data = api.get_json()\n",
    "\n",
    "    return data['data']\n",
    "\n",
    "# defines function of the button widget\n",
    "def api_button_callback_two(button):\n",
    "    apidata = access_api_two()\n",
    "\n",
    "    global ukCasesAndAdmissionsdf\n",
    "\n",
    "    # sets global dataframe variable to a wrangled version of the new dataset\n",
    "    ukCasesAndAdmissionsdf = wrangle_data(apidata, ['cases', 'admissions'])\n",
    "\n",
    "    # sets visual appearance of the button\n",
    "    apibutton_two.icon = \"check\"\n",
    "\n",
    "apibutton_two = wdg.Button(\n",
    "    description = 'Refresh Data',\n",
    "    disabled = False,\n",
    "    button_style = 'info',\n",
    "    tooltip = 'Get new data from the API', \n",
    "    icon = 'check'\n",
    ")\n",
    "\n",
    "apibutton_two.on_click(api_button_callback_two)\n",
    "\n",
    "display(apibutton_two)"
   ]
  }
 ],
 "metadata": {
  "kernelspec": {
   "display_name": "Python 3.10.6 64-bit ('3.10.6')",
   "language": "python",
   "name": "python3"
  },
  "language_info": {
   "codemirror_mode": {
    "name": "ipython",
    "version": 3
   },
   "file_extension": ".py",
   "mimetype": "text/x-python",
   "name": "python",
   "nbconvert_exporter": "python",
   "pygments_lexer": "ipython3",
   "version": "3.10.6"
  },
  "orig_nbformat": 4,
  "vscode": {
   "interpreter": {
    "hash": "92c0c1c9c7621ee073620ac4e0a0df28e7c7c044cdd9f3aa6b9645ca3eb9182e"
   }
  }
 },
 "nbformat": 4,
 "nbformat_minor": 2
}
