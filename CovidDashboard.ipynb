{
 "cells": [
  {
   "cell_type": "markdown",
   "metadata": {},
   "source": [
    "# COVID-19 Dashboard"
   ]
  },
  {
   "cell_type": "markdown",
   "metadata": {},
   "source": [
    "## A Global Pandemic (2019 - 2022)"
   ]
  },
  {
   "cell_type": "markdown",
   "metadata": {},
   "source": [
    "In December 2019, the novel coronavirus SARS-CoV-2 was detected in Wuhan City, China (CDC, 2020), and its discovery altered the course of human history. The virus is very contagious and can cause a disease known as COVID-19 (coronavirus disease 2019). \n",
    "\n",
    "Although most people who have COVID-19 only experience mild symptoms, some people become extremely sick. Those who develop severe symptoms of the disease are often admitted to the hospital. \n",
    "\n",
    "Unfortunately, in some cases of severe infection, patients are unable to recover from the disease. In the United Kingdom alone, more than 200,000 deaths have been associated with COVID-19 (Public Health England, 2022). \n",
    "\n",
    "Due to the possibility of severe complications from contracting COVID-19, many governments around the world rushed to implement stay-at-home measures to protect their residents. While the effectiveness of these measures is not universally agreed upon, they did undoubtedly reduce the potential negative impact of the disease.\n",
    "\n",
    "Thankfully, the world seems to be getting back to normal. Legal restrictions have been lifted in the United Kingdom and elsewhere, and society is quickly adjusting to the reality of post-pandemic life."
   ]
  },
  {
   "cell_type": "markdown",
   "metadata": {},
   "source": [
    "## Understanding the Statistics"
   ]
  },
  {
   "cell_type": "markdown",
   "metadata": {},
   "source": [
    "Of course, there is incredible controversy over how the world responded to COVID-19. Reflection is an important process that can point out both the strengths and weaknesses of past actions.\n",
    "\n",
    "Quantiative analysis is one of the most poignant ways to approach examining this unprecedented period in human history. Over the past few years, extensive data has been captured about the pandemic. Visualising that data paints a clearer picture of how the pandemic has developed over time."
   ]
  },
  {
   "cell_type": "markdown",
   "metadata": {},
   "source": [
    "## Graph One: New Cases vs New Tests"
   ]
  },
  {
   "cell_type": "markdown",
   "metadata": {},
   "source": [
    "In the first graph pictured below, two statistics are compared: the number of new cases (by publish date) and the number of new tests (by publish date). Both of these statistics are updated on a daily basis.\n",
    "\n",
    "Although new case numbers grew in the beginning of 2022, the graph shows that new case numbers have since returned to early-pandemic levels. The same trend applies to new test numbers. Where the two statistics differ is in the amount of zero-values. While daily test numbers are almost always above zero, the same is not the case with daily new case numbers. \n",
    "\n",
    "To refresh the data presented in the graph, click the \"refresh\" button underneath it. Changes will show when the graph is interacted with using the controls."
   ]
  },
  {
   "cell_type": "code",
   "execution_count": 8,
   "metadata": {},
   "outputs": [],
   "source": [
    "from IPython.display import clear_output \n",
    "from uk_covid19 import Cov19API \n",
    "import ipywidgets as wdg \n",
    "import pandas as pd \n",
    "import numpy as np \n",
    "import matplotlib.pyplot as plt \n",
    "import json \n",
    "\n",
    "# sets the visual output of the graph so that it is larger and easier to read\n",
    "%matplotlib inline \n",
    "plt.rcParams['figure.dpi'] = 100"
   ]
  },
  {
   "cell_type": "code",
   "execution_count": 9,
   "metadata": {},
   "outputs": [],
   "source": [
    "# This block reads the contents of JSON files and assigns them to variable names.\n",
    "\n",
    "# returns the contents of a JSON file\n",
    "def contentsOf(fileName: str):\n",
    "    with open(fileName, \"rt\") as INFILE:\n",
    "        return json.load(INFILE)\n",
    "\n",
    "# returns only the 'data' portion of a JSON file\n",
    "def rawData(fileName: str):\n",
    "    data = contentsOf(fileName)\n",
    "    return data['data']\n",
    "\n",
    "dataset_one = rawData(\"newCasesAndNewTests.json\")\n",
    "dataset_two = rawData(\"ukCasesAndAdmissions.json\")"
   ]
  },
  {
   "cell_type": "code",
   "execution_count": 10,
   "metadata": {},
   "outputs": [],
   "source": [
    "# This block performs the data wrangling necessary to create the graph.\n",
    "\n",
    "# reads the 'date' value from the data and converts it into optimal format\n",
    "def parse_date(datestring: str):\n",
    "    return pd.to_datetime(datestring, format=\"%Y-%m-%d\")\n",
    "\n",
    "# sorts through and reformats the data for use in the graph\n",
    "def wrangle_data(dataset: str, setColumns: list):\n",
    "    # sorts data by date\n",
    "    dates = [dictionary['date'] for dictionary in dataset]\n",
    "    dates.sort()\n",
    "    \n",
    "    # sets start and end dates for the graph\n",
    "    startdate = parse_date(dates[0])\n",
    "    enddate = parse_date(dates[-1])\n",
    "\n",
    "    # sets index to date range and creates dataframe\n",
    "    index = pd.date_range(startdate, enddate, freq='D')\n",
    "    df = pd.DataFrame(index = index, columns = setColumns)\n",
    "\n",
    "    # populates columns in the dataset\n",
    "    for entry in dataset:\n",
    "        date = parse_date(entry['date'])\n",
    "        for column in setColumns:\n",
    "            if pd.isna(df.loc[date, column]):\n",
    "                value = float(entry[column]) if entry[column]!= None else 0.0\n",
    "                df.loc[date, column] = value \n",
    "\n",
    "    # fills in remaining holes\n",
    "    df.fillna(0.0, inplace = True)\n",
    "\n",
    "    return df \n",
    "\n",
    "newCasesAndNewTestsdf = wrangle_data(dataset_one, ['new_cases', 'new_tests'])\n",
    "ukCasesAndAdmissionsdf = wrangle_data(dataset_two, ['cases', 'admissions'])"
   ]
  },
  {
   "cell_type": "code",
   "execution_count": 11,
   "metadata": {},
   "outputs": [
    {
     "data": {
      "application/vnd.jupyter.widget-view+json": {
       "model_id": "c469054585af471db82f3602eeeb014a",
       "version_major": 2,
       "version_minor": 0
      },
      "text/plain": [
       "HBox(children=(SelectMultiple(description='Statistics:', index=(0, 1), options=('new_cases', 'new_tests'), row…"
      ]
     },
     "metadata": {},
     "output_type": "display_data"
    },
    {
     "data": {
      "application/vnd.jupyter.widget-view+json": {
       "model_id": "4b214b26d51441dba2de6b8b998dafce",
       "version_major": 2,
       "version_minor": 0
      },
      "text/plain": [
       "Output()"
      ]
     },
     "metadata": {},
     "output_type": "display_data"
    }
   ],
   "source": [
    "# This block creates the first graph and adds interactive controls.\n",
    "\n",
    "def graph_one(gcols: str, gscale: str):\n",
    "    if gscale == 'linear':\n",
    "        logscale = False \n",
    "    else:\n",
    "        logscale = True \n",
    "\n",
    "    ncols = len(gcols)\n",
    "\n",
    "    if ncols > 0:\n",
    "        newCasesAndNewTestsdf[list(gcols)].plot(logy=logscale)\n",
    "        plt.show() \n",
    "    else:\n",
    "        print('Click to select data for graph')\n",
    "        print('CTRL-Click to select more than one category') \n",
    "\n",
    "# sets values of series (column) selection\n",
    "series_one = wdg.SelectMultiple(\n",
    "    options = ['new_cases', 'new_tests'],\n",
    "    value = ['new_cases', 'new_tests'],\n",
    "    rows = 2,\n",
    "    description = 'Statistics:',\n",
    "    disable = False\n",
    ")\n",
    "\n",
    "# sets values of scale selection\n",
    "scale_one = wdg.RadioButtons(\n",
    "    options = ['linear', 'log'],\n",
    "    description = 'Scale:', \n",
    "    disabled = False\n",
    ") \n",
    "\n",
    "# defines appearance of the graph controls using series and select variables\n",
    "controls_one = wdg.HBox([series_one, scale_one])\n",
    "\n",
    "# creates UI and organizes it within a box\n",
    "graph_one = wdg.interactive_output(graph_one, {'gcols': series_one, 'gscale': scale_one})\n",
    "\n",
    "# outputs graph and interactive controls\n",
    "display(controls_one, graph_one)"
   ]
  },
  {
   "cell_type": "code",
   "execution_count": 12,
   "metadata": {},
   "outputs": [
    {
     "data": {
      "application/vnd.jupyter.widget-view+json": {
       "model_id": "97a7a604ffba4bf5b27ec450b73897b3",
       "version_major": 2,
       "version_minor": 0
      },
      "text/plain": [
       "Button(button_style='info', description='Refresh Data', icon='check', style=ButtonStyle(), tooltip='Get new da…"
      ]
     },
     "metadata": {},
     "output_type": "display_data"
    }
   ],
   "source": [
    "# This block creates a button that allows a user to refresh the data for graph one by polling the API. \n",
    "\n",
    "# accesses API to update the dataset\n",
    "def access_api():\n",
    "    # sets filter\n",
    "    united_kingdom = [\n",
    "        'areaType=overview'\n",
    "    ]\n",
    "\n",
    "    # sets structure\n",
    "    new_cases_and_tests = {\n",
    "        \"date\": \"date\",\n",
    "        \"new_cases\": \"newCasesByPublishDate\",\n",
    "        \"new_tests\": \"newTestsByPublishDate\"\n",
    "    }\n",
    "\n",
    "    # creates 'api' object\n",
    "    api = Cov19API(filters=united_kingdom, structure=new_cases_and_tests)\n",
    "\n",
    "    # polls the API for data\n",
    "    data = api.get_json()\n",
    "\n",
    "    return data['data']\n",
    "\n",
    "# defines function of the button widget\n",
    "def api_button_callback(button):\n",
    "    apidata = access_api()\n",
    "\n",
    "    global newCasesAndNewTestsdf\n",
    "\n",
    "    # sets global dataframe variable to a wrangled version of the new dataset\n",
    "    newCasesAndNewTestsdf = wrangle_data(apidata, ['new_cases', 'new_tests'])\n",
    "\n",
    "    # sets visual appearance of the button\n",
    "    apibutton.icon = \"check\"\n",
    "\n",
    "apibutton = wdg.Button(\n",
    "    description = 'Refresh Data',\n",
    "    disabled = False,\n",
    "    button_style = 'info',\n",
    "    tooltip = 'Get new data from the API', \n",
    "    icon = 'check'\n",
    ")\n",
    "\n",
    "apibutton.on_click(api_button_callback)\n",
    "\n",
    "display(apibutton)"
   ]
  },
  {
   "cell_type": "markdown",
   "metadata": {},
   "source": [
    "## Graph Two: Total Cases vs Total Hospital Admissions"
   ]
  },
  {
   "cell_type": "markdown",
   "metadata": {},
   "source": [
    "In the second graph, two additional statistics are compared: total cases (by specimen date) and total hospital admissions since the beginning of the pandemic. \n",
    "\n",
    "NOTE: Public Health England has changed the way it records total cases, so recent statistics may reflect a total of zero cumulative cases. \n",
    "\n",
    "Generally, both statistics follow a similar upward trend. Because both numbers will never decrease, it is more useful to compare them using a logarithmic scale. Doing so reveals that both case numbers and hospital admissions are growing at a relatively steady rate. Some could argue that this means COVID-19 is becoming more endemic, but it is likely too early to make such conclusions.\n",
    "\n",
    "To refresh the data presented in the graph, click the \"refresh\" button underneath it. Changes will show when the graph is interacted with using the controls."
   ]
  },
  {
   "cell_type": "code",
   "execution_count": 13,
   "metadata": {},
   "outputs": [
    {
     "data": {
      "application/vnd.jupyter.widget-view+json": {
       "model_id": "d8d5720463624ed7a4feb4c739de0d64",
       "version_major": 2,
       "version_minor": 0
      },
      "text/plain": [
       "HBox(children=(SelectMultiple(description='Statistics:', index=(0, 1), options=('cases', 'admissions'), rows=2…"
      ]
     },
     "metadata": {},
     "output_type": "display_data"
    },
    {
     "data": {
      "application/vnd.jupyter.widget-view+json": {
       "model_id": "c3428d652b664a9bb9cdccf78f8d92f3",
       "version_major": 2,
       "version_minor": 0
      },
      "text/plain": [
       "Output()"
      ]
     },
     "metadata": {},
     "output_type": "display_data"
    }
   ],
   "source": [
    "# This block creates the second graph and adds interactive controls.\n",
    "\n",
    "def graph_two(gcols: str, gscale: str):\n",
    "    if gscale == 'linear':\n",
    "        logscale = False \n",
    "    else:\n",
    "        logscale = True \n",
    "\n",
    "    ncols = len(gcols)\n",
    "\n",
    "    if ncols > 0:\n",
    "        ukCasesAndAdmissionsdf[list(gcols)].plot(logy=logscale)\n",
    "        plt.show() \n",
    "    else:\n",
    "        print('Click to select data for graph')\n",
    "        print('CTRL-Click to select more than one category') \n",
    "\n",
    "# sets values of series (column) selection\n",
    "series_two = wdg.SelectMultiple(\n",
    "    options = ['cases', 'admissions'],\n",
    "    value = ['cases', 'admissions'],\n",
    "    rows = 2,\n",
    "    description = 'Statistics:',\n",
    "    disable = False\n",
    ")\n",
    "\n",
    "# sets values of scale selection\n",
    "scale_two = wdg.RadioButtons(\n",
    "    options = ['linear', 'log'],\n",
    "    description = 'Scale:', \n",
    "    disabled = False\n",
    ") \n",
    "\n",
    "# defines appearance of the graph controls using series and select variables\n",
    "controls_two = wdg.HBox([series_two, scale_two])\n",
    "\n",
    "# creates UI and organizes it within a box\n",
    "graph_two = wdg.interactive_output(graph_two, {'gcols': series_two, 'gscale': scale_two})\n",
    "\n",
    "# outputs graph and interactive controls\n",
    "display(controls_two, graph_two)"
   ]
  },
  {
   "cell_type": "code",
   "execution_count": 14,
   "metadata": {},
   "outputs": [
    {
     "data": {
      "application/vnd.jupyter.widget-view+json": {
       "model_id": "e3aa917c6e244e49891bf7841804472e",
       "version_major": 2,
       "version_minor": 0
      },
      "text/plain": [
       "Button(button_style='info', description='Refresh Data', icon='check', style=ButtonStyle(), tooltip='Get new da…"
      ]
     },
     "metadata": {},
     "output_type": "display_data"
    }
   ],
   "source": [
    "# This block creates a button that allows a user to refresh the data for graph two by polling the API. \n",
    "\n",
    "# accesses API to update the dataset\n",
    "def access_api_two():\n",
    "    # sets filter\n",
    "    united_kingdom = [\n",
    "        'areaType=overview'\n",
    "    ]\n",
    "\n",
    "    # sets structure\n",
    "    cases_and_admissions = {\n",
    "        \"date\": \"date\",\n",
    "        \"cases\": \"cumCasesBySpecimenDate\",\n",
    "        \"admissions\": \"cumAdmissions\"\n",
    "    }\n",
    "\n",
    "    # creates 'api' object\n",
    "    api = Cov19API(filters=united_kingdom, structure=cases_and_admissions)\n",
    "\n",
    "    # polls the API for data\n",
    "    data = api.get_json()\n",
    "\n",
    "    return data['data']\n",
    "\n",
    "# defines function of the button widget\n",
    "def api_button_callback_two(button):\n",
    "    apidata = access_api_two()\n",
    "\n",
    "    global ukCasesAndAdmissionsdf\n",
    "\n",
    "    # sets global dataframe variable to a wrangled version of the new dataset\n",
    "    ukCasesAndAdmissionsdf = wrangle_data(apidata, ['cases', 'admissions'])\n",
    "\n",
    "    # sets visual appearance of the button\n",
    "    apibutton_two.icon = \"check\"\n",
    "\n",
    "apibutton_two = wdg.Button(\n",
    "    description = 'Refresh Data',\n",
    "    disabled = False,\n",
    "    button_style = 'info',\n",
    "    tooltip = 'Get new data from the API', \n",
    "    icon = 'check'\n",
    ")\n",
    "\n",
    "apibutton_two.on_click(api_button_callback_two)\n",
    "\n",
    "display(apibutton_two)"
   ]
  },
  {
   "cell_type": "markdown",
   "metadata": {},
   "source": [
    "### References"
   ]
  },
  {
   "cell_type": "markdown",
   "metadata": {},
   "source": [
    "CDC (2020) *COVID-19 and Your Health*. Available at: https://www.cdc.gov/coronavirus/2019-ncov/your-health/about-covid-19/basics-covid-19.html."
   ]
  },
  {
   "cell_type": "markdown",
   "metadata": {},
   "source": [
    "Public Health England (2022) *Coronavirus (COVID-19) in the UK*. Available at: https://coronavirus.data.gov.uk/ (Accessed: 1 December 2022)."
   ]
  },
  {
   "cell_type": "markdown",
   "metadata": {},
   "source": [
    "#### Author and Copyright Notice"
   ]
  },
  {
   "cell_type": "markdown",
   "metadata": {},
   "source": [
    "COVID-19 Dashboard (C) Matthew Streets, 2022 (hello@matthewstreets.com - web). All rights reserved.\n",
    "\n",
    "*Based on UK Government [data](https://coronavirus.data.gov.uk/) published by [Public Health England](https://www.gov.uk/government/organisations/public-health-england).*"
   ]
  }
 ],
 "metadata": {
  "kernelspec": {
   "display_name": "Python 3.10.6 64-bit ('3.10.6')",
   "language": "python",
   "name": "python3"
  },
  "language_info": {
   "codemirror_mode": {
    "name": "ipython",
    "version": 3
   },
   "file_extension": ".py",
   "mimetype": "text/x-python",
   "name": "python",
   "nbconvert_exporter": "python",
   "pygments_lexer": "ipython3",
   "version": "3.10.6"
  },
  "orig_nbformat": 4,
  "vscode": {
   "interpreter": {
    "hash": "92c0c1c9c7621ee073620ac4e0a0df28e7c7c044cdd9f3aa6b9645ca3eb9182e"
   }
  }
 },
 "nbformat": 4,
 "nbformat_minor": 2
}
